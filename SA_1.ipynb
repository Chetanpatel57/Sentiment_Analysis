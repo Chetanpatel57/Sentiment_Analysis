{
 "cells": [
  {
   "cell_type": "code",
   "execution_count": 2,
   "metadata": {},
   "outputs": [],
   "source": [
    "import numpy as np\n",
    "import pandas as pd\n",
    "import nltk\n",
    "from nltk.corpus import stopwords\n",
    "from nltk.stem import PorterStemmer\n",
    "from sklearn.feature_extraction.text import CountVectorizer\n",
    "from sklearn.feature_extraction.text import TfidfVectorizer\n",
    "from sklearn.model_selection import train_test_split\n",
    "from sklearn.svm import LinearSVC\n",
    "from sklearn.metrics import classification_report\n",
    "from sklearn.metrics import accuracy_score\n",
    "from sklearn.naive_bayes import MultinomialNB\n",
    "from sklearn.neural_network import MLPClassifier\n",
    "from sklearn.ensemble import VotingClassifier"
   ]
  },
  {
   "cell_type": "code",
   "execution_count": 4,
   "metadata": {},
   "outputs": [
    {
     "data": {
      "text/html": [
       "<div>\n",
       "<style scoped>\n",
       "    .dataframe tbody tr th:only-of-type {\n",
       "        vertical-align: middle;\n",
       "    }\n",
       "\n",
       "    .dataframe tbody tr th {\n",
       "        vertical-align: top;\n",
       "    }\n",
       "\n",
       "    .dataframe thead th {\n",
       "        text-align: right;\n",
       "    }\n",
       "</style>\n",
       "<table border=\"1\" class=\"dataframe\">\n",
       "  <thead>\n",
       "    <tr style=\"text-align: right;\">\n",
       "      <th></th>\n",
       "      <th>Unnamed: 0</th>\n",
       "      <th>Unnamed: 0.1</th>\n",
       "      <th>type</th>\n",
       "      <th>review</th>\n",
       "      <th>label</th>\n",
       "    </tr>\n",
       "  </thead>\n",
       "  <tbody>\n",
       "    <tr>\n",
       "      <th>0</th>\n",
       "      <td>0</td>\n",
       "      <td>0</td>\n",
       "      <td>test</td>\n",
       "      <td>mr costner drag movi far longer necessari asi...</td>\n",
       "      <td>neg</td>\n",
       "    </tr>\n",
       "    <tr>\n",
       "      <th>1</th>\n",
       "      <td>1</td>\n",
       "      <td>1</td>\n",
       "      <td>test</td>\n",
       "      <td>exampl major action film generic bore there r...</td>\n",
       "      <td>neg</td>\n",
       "    </tr>\n",
       "    <tr>\n",
       "      <th>2</th>\n",
       "      <td>2</td>\n",
       "      <td>2</td>\n",
       "      <td>test</td>\n",
       "      <td>first hate moron rapper couldnt act gun press...</td>\n",
       "      <td>neg</td>\n",
       "    </tr>\n",
       "    <tr>\n",
       "      <th>3</th>\n",
       "      <td>3</td>\n",
       "      <td>3</td>\n",
       "      <td>test</td>\n",
       "      <td>even beatl could write song everyon like alth...</td>\n",
       "      <td>neg</td>\n",
       "    </tr>\n",
       "    <tr>\n",
       "      <th>4</th>\n",
       "      <td>4</td>\n",
       "      <td>4</td>\n",
       "      <td>test</td>\n",
       "      <td>brass pictur movi fit word realli somewhat br...</td>\n",
       "      <td>neg</td>\n",
       "    </tr>\n",
       "  </tbody>\n",
       "</table>\n",
       "</div>"
      ],
      "text/plain": [
       "   Unnamed: 0  Unnamed: 0.1  type  \\\n",
       "0           0             0  test   \n",
       "1           1             1  test   \n",
       "2           2             2  test   \n",
       "3           3             3  test   \n",
       "4           4             4  test   \n",
       "\n",
       "                                              review label  \n",
       "0   mr costner drag movi far longer necessari asi...   neg  \n",
       "1   exampl major action film generic bore there r...   neg  \n",
       "2   first hate moron rapper couldnt act gun press...   neg  \n",
       "3   even beatl could write song everyon like alth...   neg  \n",
       "4   brass pictur movi fit word realli somewhat br...   neg  "
      ]
     },
     "execution_count": 4,
     "metadata": {},
     "output_type": "execute_result"
    }
   ],
   "source": [
    "imdb = pd.read_csv(\"out1.csv\",delimiter = ',',encoding = \"ISO-8859-1\")\n",
    "imdb.head()"
   ]
  },
  {
   "cell_type": "code",
   "execution_count": 5,
   "metadata": {},
   "outputs": [],
   "source": [
    "final_X = imdb['review']\n",
    "final_y = imdb['label']"
   ]
  },
  {
   "cell_type": "code",
   "execution_count": 6,
   "metadata": {},
   "outputs": [
    {
     "name": "stdout",
     "output_type": "stream",
     "text": [
      "  (0, 1931666)\t1\n",
      "  (0, 907325)\t1\n",
      "  (0, 1167768)\t1\n",
      "  (0, 1480336)\t1\n",
      "  (0, 458538)\t1\n",
      "  (0, 475180)\t1\n",
      "  (0, 1979726)\t1\n",
      "  (0, 94326)\t1\n",
      "  (0, 440214)\t1\n",
      "  (0, 357913)\t1\n",
      "  (0, 1094597)\t1\n",
      "  (0, 609734)\t1\n",
      "  (0, 2642086)\t1\n",
      "  (0, 1471155)\t1\n",
      "  (0, 2439828)\t1\n",
      "  (0, 2113675)\t1\n",
      "  (0, 260467)\t1\n",
      "  (0, 44935)\t1\n",
      "  (0, 258557)\t1\n",
      "  (0, 528526)\t1\n",
      "  (0, 369997)\t1\n",
      "  (0, 1867965)\t1\n",
      "  (0, 1664904)\t1\n",
      "  (0, 1304283)\t1\n",
      "  (0, 2643188)\t1\n",
      "  :\t:\n",
      "  (0, 1908852)\t1\n",
      "  (0, 2680525)\t1\n",
      "  (0, 571868)\t2\n",
      "  (0, 1194739)\t5\n",
      "  (0, 2393211)\t1\n",
      "  (0, 2398377)\t1\n",
      "  (0, 218738)\t1\n",
      "  (0, 2639983)\t1\n",
      "  (0, 492522)\t1\n",
      "  (0, 2640999)\t4\n",
      "  (0, 2720966)\t2\n",
      "  (0, 1678966)\t1\n",
      "  (0, 2432546)\t1\n",
      "  (0, 299188)\t1\n",
      "  (0, 1004665)\t1\n",
      "  (0, 901230)\t6\n",
      "  (0, 48052)\t2\n",
      "  (0, 1476974)\t1\n",
      "  (0, 820682)\t1\n",
      "  (0, 2660510)\t1\n",
      "  (0, 258493)\t3\n",
      "  (0, 474664)\t1\n",
      "  (0, 1962160)\t2\n",
      "  (0, 2464469)\t1\n",
      "  (0, 405734)\t3\n"
     ]
    }
   ],
   "source": [
    "final_B_X = final_X\n",
    "count_vect = CountVectorizer(ngram_range=(1,2))\n",
    "Bigram_data = count_vect.fit_transform(final_B_X)\n",
    "print(Bigram_data[1])"
   ]
  },
  {
   "cell_type": "code",
   "execution_count": 7,
   "metadata": {},
   "outputs": [],
   "source": [
    "x_train , x_val, y_train , y_val = train_test_split(Bigram_data,final_y,test_size = 0.2)"
   ]
  },
  {
   "cell_type": "code",
   "execution_count": 8,
   "metadata": {},
   "outputs": [
    {
     "name": "stdout",
     "output_type": "stream",
     "text": [
      "             precision    recall  f1-score   support\n",
      "\n",
      "        neg       0.89      0.90      0.90      4871\n",
      "        pos       0.91      0.89      0.90      5129\n",
      "\n",
      "avg / total       0.90      0.90      0.90     10000\n",
      "\n",
      "0.8994\n"
     ]
    }
   ],
   "source": [
    "svm = LinearSVC()\n",
    "svm.fit(x_train,y_train)\n",
    "print(classification_report( svm.predict(x_val) , y_val))\n",
    "print(accuracy_score( svm.predict(x_val) , y_val ))"
   ]
  },
  {
   "cell_type": "code",
   "execution_count": 9,
   "metadata": {},
   "outputs": [
    {
     "name": "stdout",
     "output_type": "stream",
     "text": [
      "             precision    recall  f1-score   support\n",
      "\n",
      "        neg       0.90      0.87      0.88      5126\n",
      "        pos       0.87      0.90      0.88      4874\n",
      "\n",
      "avg / total       0.88      0.88      0.88     10000\n",
      "\n",
      "0.8819\n"
     ]
    }
   ],
   "source": [
    "nb=MultinomialNB()\n",
    "nb.fit(x_train,y_train)\n",
    "print(classification_report( nb.predict(x_val) , y_val))\n",
    "print(accuracy_score( nb.predict(x_val) , y_val ))"
   ]
  },
  {
   "cell_type": "code",
   "execution_count": 10,
   "metadata": {},
   "outputs": [
    {
     "name": "stdout",
     "output_type": "stream",
     "text": [
      "             precision    recall  f1-score   support\n",
      "\n",
      "        neg       0.93      0.88      0.90      4947\n",
      "        pos       0.89      0.94      0.91      5053\n",
      "\n",
      "avg / total       0.91      0.91      0.91     10000\n",
      "\n",
      "0.908\n"
     ]
    }
   ],
   "source": [
    "mlp = MLPClassifier(hidden_layer_sizes=(5,5,5),max_iter=500)\n",
    "mlp.fit(x_train,y_train)\n",
    "predictions = mlp.predict(x_val)\n",
    "print(classification_report(y_val,predictions))\n",
    "print(accuracy_score( predictions, y_val ))"
   ]
  },
  {
   "cell_type": "code",
   "execution_count": 12,
   "metadata": {},
   "outputs": [
    {
     "name": "stderr",
     "output_type": "stream",
     "text": [
      "C:\\ProgramData\\Anaconda3\\lib\\site-packages\\sklearn\\preprocessing\\label.py:151: DeprecationWarning: The truth value of an empty array is ambiguous. Returning False, but in future this will result in an error. Use `array.size > 0` to check that an array is not empty.\n",
      "  if diff:\n"
     ]
    },
    {
     "name": "stdout",
     "output_type": "stream",
     "text": [
      "             precision    recall  f1-score   support\n",
      "\n",
      "        neg       0.91      0.91      0.91      4933\n",
      "        pos       0.91      0.91      0.91      5067\n",
      "\n",
      "avg / total       0.91      0.91      0.91     10000\n",
      "\n",
      "0.908\n"
     ]
    },
    {
     "name": "stderr",
     "output_type": "stream",
     "text": [
      "C:\\ProgramData\\Anaconda3\\lib\\site-packages\\sklearn\\preprocessing\\label.py:151: DeprecationWarning: The truth value of an empty array is ambiguous. Returning False, but in future this will result in an error. Use `array.size > 0` to check that an array is not empty.\n",
      "  if diff:\n"
     ]
    }
   ],
   "source": [
    "estimators = [ ('svm',svm) , ('nb' , nb), ('mlp' , mlp) ]\n",
    "clf = VotingClassifier(estimators , voting='hard')\n",
    "clf.fit(x_train,y_train)\n",
    "print(classification_report( clf.predict(x_val) , y_val))\n",
    "print(accuracy_score( clf.predict(x_val) , y_val ))"
   ]
  }
 ],
 "metadata": {
  "kernelspec": {
   "display_name": "Python 3",
   "language": "python",
   "name": "python3"
  },
  "language_info": {
   "codemirror_mode": {
    "name": "ipython",
    "version": 3
   },
   "file_extension": ".py",
   "mimetype": "text/x-python",
   "name": "python",
   "nbconvert_exporter": "python",
   "pygments_lexer": "ipython3",
   "version": "3.6.5"
  }
 },
 "nbformat": 4,
 "nbformat_minor": 2
}
